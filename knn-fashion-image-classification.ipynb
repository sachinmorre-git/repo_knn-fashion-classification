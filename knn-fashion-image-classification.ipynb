{
 "cells": [
  {
   "cell_type": "code",
   "execution_count": 1,
   "id": "e6c544a7",
   "metadata": {},
   "outputs": [
    {
     "name": "stdout",
     "output_type": "stream",
     "text": [
      "3.9.6 (default, Sep 26 2022, 11:37:49) \n",
      "[Clang 14.0.0 (clang-1400.0.29.202)]\n"
     ]
    }
   ],
   "source": [
    "import sys\n",
    "print(sys.version)"
   ]
  },
  {
   "cell_type": "code",
   "execution_count": 60,
   "id": "968f1b7e",
   "metadata": {
    "scrolled": true
   },
   "outputs": [],
   "source": [
    "import pandas as pd\n",
    "import tkinter as tk\n",
    "from tkinter import filedialog\n",
    "import numpy as np\n",
    "import numpy as np\n",
    "from sklearn.preprocessing import MinMaxScaler\n",
    "import time\n",
    "from sklearn.neighbors import KNeighborsClassifier\n",
    "from sklearn.metrics import confusion_matrix\n",
    "from sklearn.metrics import classification_report\n",
    "import matplotlib.pyplot as plt\n",
    "from sklearn.metrics import classification_report as cls_report"
   ]
  },
  {
   "cell_type": "code",
   "execution_count": 9,
   "id": "92651c44",
   "metadata": {},
   "outputs": [
    {
     "name": "stderr",
     "output_type": "stream",
     "text": [
      "2023-05-31 16:13:59.666 Python[864:11705] +[CATransaction synchronize] called within transaction\n"
     ]
    }
   ],
   "source": [
    "D_train = pd.read_csv(filedialog.askopenfilename(), header=None)"
   ]
  },
  {
   "cell_type": "code",
   "execution_count": 11,
   "id": "0366a1d2",
   "metadata": {},
   "outputs": [
    {
     "name": "stderr",
     "output_type": "stream",
     "text": [
      "2023-05-31 16:15:22.827 Python[864:11705] +[CATransaction synchronize] called within transaction\n"
     ]
    }
   ],
   "source": [
    "D_test = pd.read_csv(filedialog.askopenfilename(), header = None)"
   ]
  },
  {
   "cell_type": "code",
   "execution_count": 12,
   "id": "e59b6686",
   "metadata": {},
   "outputs": [],
   "source": [
    "column_names = [\"F_Type\"] + [f\"Pix{i}\" for i in range(1, 785)]"
   ]
  },
  {
   "cell_type": "code",
   "execution_count": 13,
   "id": "83b56a27",
   "metadata": {},
   "outputs": [],
   "source": [
    "D_train.columns = column_names"
   ]
  },
  {
   "cell_type": "code",
   "execution_count": 14,
   "id": "62324265",
   "metadata": {},
   "outputs": [],
   "source": [
    "D_test.columns = column_names"
   ]
  },
  {
   "cell_type": "code",
   "execution_count": 20,
   "id": "0c328e6e",
   "metadata": {},
   "outputs": [],
   "source": [
    "# Define the mapping dictionary\n",
    "train_label_mapping = {\n",
    "    0: \"T-shirt/top\",\n",
    "    1: \"Trouser\",\n",
    "    2: \"Pullover\",\n",
    "    3: \"Dress\",\n",
    "    4: \"Coat\",\n",
    "    5: \"Sandal\",\n",
    "    6: \"Shirt\",\n",
    "    7: \"Sneaker\",\n",
    "    8: \"Bag\",\n",
    "    9: \"Ankle boot\"\n",
    "}\n",
    "\n",
    "# Replace the values in the column with their corresponding labels\n",
    "D_train['F_Type'] = D_train['F_Type'].map(train_label_mapping)\n"
   ]
  },
  {
   "cell_type": "code",
   "execution_count": 21,
   "id": "abca3a98",
   "metadata": {},
   "outputs": [],
   "source": [
    "# Define the mapping dictionary\n",
    "test_label_mapping = {\n",
    "    0: \"T-shirt/top\",\n",
    "    1: \"Trouser\",\n",
    "    2: \"Pullover\",\n",
    "    3: \"Dress\",\n",
    "    4: \"Coat\",\n",
    "    5: \"Sandal\",\n",
    "    6: \"Shirt\",\n",
    "    7: \"Sneaker\",\n",
    "    8: \"Bag\",\n",
    "    9: \"Ankle boot\"\n",
    "}\n",
    "\n",
    "# Replace the values in the column with their corresponding labels\n",
    "D_test['F_Type'] = D_test['F_Type'].map(test_label_mapping)"
   ]
  },
  {
   "cell_type": "code",
   "execution_count": 23,
   "id": "e76bad06",
   "metadata": {},
   "outputs": [
    {
     "data": {
      "text/html": [
       "<div>\n",
       "<style scoped>\n",
       "    .dataframe tbody tr th:only-of-type {\n",
       "        vertical-align: middle;\n",
       "    }\n",
       "\n",
       "    .dataframe tbody tr th {\n",
       "        vertical-align: top;\n",
       "    }\n",
       "\n",
       "    .dataframe thead th {\n",
       "        text-align: right;\n",
       "    }\n",
       "</style>\n",
       "<table border=\"1\" class=\"dataframe\">\n",
       "  <thead>\n",
       "    <tr style=\"text-align: right;\">\n",
       "      <th></th>\n",
       "      <th>F_Type</th>\n",
       "      <th>Pix1</th>\n",
       "      <th>Pix2</th>\n",
       "      <th>Pix3</th>\n",
       "      <th>Pix4</th>\n",
       "      <th>Pix5</th>\n",
       "      <th>Pix6</th>\n",
       "      <th>Pix7</th>\n",
       "      <th>Pix8</th>\n",
       "      <th>Pix9</th>\n",
       "      <th>...</th>\n",
       "      <th>Pix775</th>\n",
       "      <th>Pix776</th>\n",
       "      <th>Pix777</th>\n",
       "      <th>Pix778</th>\n",
       "      <th>Pix779</th>\n",
       "      <th>Pix780</th>\n",
       "      <th>Pix781</th>\n",
       "      <th>Pix782</th>\n",
       "      <th>Pix783</th>\n",
       "      <th>Pix784</th>\n",
       "    </tr>\n",
       "  </thead>\n",
       "  <tbody>\n",
       "    <tr>\n",
       "      <th>0</th>\n",
       "      <td>Ankle boot</td>\n",
       "      <td>0</td>\n",
       "      <td>0</td>\n",
       "      <td>0</td>\n",
       "      <td>0</td>\n",
       "      <td>0</td>\n",
       "      <td>0</td>\n",
       "      <td>0</td>\n",
       "      <td>0</td>\n",
       "      <td>0</td>\n",
       "      <td>...</td>\n",
       "      <td>0</td>\n",
       "      <td>0</td>\n",
       "      <td>0</td>\n",
       "      <td>0</td>\n",
       "      <td>0</td>\n",
       "      <td>0</td>\n",
       "      <td>0</td>\n",
       "      <td>0</td>\n",
       "      <td>0</td>\n",
       "      <td>0</td>\n",
       "    </tr>\n",
       "    <tr>\n",
       "      <th>1</th>\n",
       "      <td>Pullover</td>\n",
       "      <td>0</td>\n",
       "      <td>0</td>\n",
       "      <td>0</td>\n",
       "      <td>0</td>\n",
       "      <td>0</td>\n",
       "      <td>0</td>\n",
       "      <td>0</td>\n",
       "      <td>0</td>\n",
       "      <td>0</td>\n",
       "      <td>...</td>\n",
       "      <td>2</td>\n",
       "      <td>3</td>\n",
       "      <td>0</td>\n",
       "      <td>3</td>\n",
       "      <td>174</td>\n",
       "      <td>189</td>\n",
       "      <td>67</td>\n",
       "      <td>0</td>\n",
       "      <td>0</td>\n",
       "      <td>0</td>\n",
       "    </tr>\n",
       "    <tr>\n",
       "      <th>2</th>\n",
       "      <td>Trouser</td>\n",
       "      <td>0</td>\n",
       "      <td>0</td>\n",
       "      <td>0</td>\n",
       "      <td>0</td>\n",
       "      <td>0</td>\n",
       "      <td>0</td>\n",
       "      <td>0</td>\n",
       "      <td>0</td>\n",
       "      <td>1</td>\n",
       "      <td>...</td>\n",
       "      <td>164</td>\n",
       "      <td>58</td>\n",
       "      <td>0</td>\n",
       "      <td>0</td>\n",
       "      <td>0</td>\n",
       "      <td>0</td>\n",
       "      <td>0</td>\n",
       "      <td>0</td>\n",
       "      <td>0</td>\n",
       "      <td>0</td>\n",
       "    </tr>\n",
       "    <tr>\n",
       "      <th>3</th>\n",
       "      <td>Trouser</td>\n",
       "      <td>0</td>\n",
       "      <td>0</td>\n",
       "      <td>0</td>\n",
       "      <td>0</td>\n",
       "      <td>0</td>\n",
       "      <td>0</td>\n",
       "      <td>0</td>\n",
       "      <td>0</td>\n",
       "      <td>0</td>\n",
       "      <td>...</td>\n",
       "      <td>1</td>\n",
       "      <td>0</td>\n",
       "      <td>0</td>\n",
       "      <td>0</td>\n",
       "      <td>0</td>\n",
       "      <td>0</td>\n",
       "      <td>0</td>\n",
       "      <td>0</td>\n",
       "      <td>0</td>\n",
       "      <td>0</td>\n",
       "    </tr>\n",
       "    <tr>\n",
       "      <th>4</th>\n",
       "      <td>Shirt</td>\n",
       "      <td>0</td>\n",
       "      <td>0</td>\n",
       "      <td>0</td>\n",
       "      <td>2</td>\n",
       "      <td>0</td>\n",
       "      <td>1</td>\n",
       "      <td>1</td>\n",
       "      <td>0</td>\n",
       "      <td>0</td>\n",
       "      <td>...</td>\n",
       "      <td>71</td>\n",
       "      <td>12</td>\n",
       "      <td>0</td>\n",
       "      <td>0</td>\n",
       "      <td>0</td>\n",
       "      <td>0</td>\n",
       "      <td>0</td>\n",
       "      <td>0</td>\n",
       "      <td>0</td>\n",
       "      <td>0</td>\n",
       "    </tr>\n",
       "  </tbody>\n",
       "</table>\n",
       "<p>5 rows × 785 columns</p>\n",
       "</div>"
      ],
      "text/plain": [
       "       F_Type  Pix1  Pix2  Pix3  Pix4  Pix5  Pix6  Pix7  Pix8  Pix9  ...  \\\n",
       "0  Ankle boot     0     0     0     0     0     0     0     0     0  ...   \n",
       "1    Pullover     0     0     0     0     0     0     0     0     0  ...   \n",
       "2     Trouser     0     0     0     0     0     0     0     0     1  ...   \n",
       "3     Trouser     0     0     0     0     0     0     0     0     0  ...   \n",
       "4       Shirt     0     0     0     2     0     1     1     0     0  ...   \n",
       "\n",
       "   Pix775  Pix776  Pix777  Pix778  Pix779  Pix780  Pix781  Pix782  Pix783  \\\n",
       "0       0       0       0       0       0       0       0       0       0   \n",
       "1       2       3       0       3     174     189      67       0       0   \n",
       "2     164      58       0       0       0       0       0       0       0   \n",
       "3       1       0       0       0       0       0       0       0       0   \n",
       "4      71      12       0       0       0       0       0       0       0   \n",
       "\n",
       "   Pix784  \n",
       "0       0  \n",
       "1       0  \n",
       "2       0  \n",
       "3       0  \n",
       "4       0  \n",
       "\n",
       "[5 rows x 785 columns]"
      ]
     },
     "execution_count": 23,
     "metadata": {},
     "output_type": "execute_result"
    }
   ],
   "source": [
    "D_test.head()"
   ]
  },
  {
   "cell_type": "code",
   "execution_count": 24,
   "id": "f96784f3",
   "metadata": {},
   "outputs": [
    {
     "name": "stdout",
     "output_type": "stream",
     "text": [
      "F_Type\n",
      "Ankle boot     6000\n",
      "Bag            6000\n",
      "Coat           6000\n",
      "Dress          6000\n",
      "Pullover       6000\n",
      "Sandal         6000\n",
      "Shirt          6000\n",
      "Sneaker        6000\n",
      "T-shirt/top    6000\n",
      "Trouser        6000\n",
      "Name: count, dtype: int64\n",
      "F_Type\n",
      "Ankle boot     10.0\n",
      "Bag            10.0\n",
      "Coat           10.0\n",
      "Dress          10.0\n",
      "Pullover       10.0\n",
      "Sandal         10.0\n",
      "Shirt          10.0\n",
      "Sneaker        10.0\n",
      "T-shirt/top    10.0\n",
      "Trouser        10.0\n",
      "Name: count, dtype: float64\n"
     ]
    }
   ],
   "source": [
    "# Compute the frequency table\n",
    "D_train['F_Type'] = D_train['F_Type'].astype('category')\n",
    "frequency_table = D_train['F_Type'].value_counts()\n",
    "print(frequency_table)\n",
    "\n",
    "\n",
    "# Compute the proportion table\n",
    "proportion_table = frequency_table / frequency_table.sum()\n",
    "\n",
    "# Compute the rounded percentages\n",
    "rounded_percentages = np.round(proportion_table * 100, decimals=1)\n",
    "\n",
    "print(rounded_percentages)"
   ]
  },
  {
   "cell_type": "code",
   "execution_count": 25,
   "id": "398e0064",
   "metadata": {},
   "outputs": [
    {
     "data": {
      "text/plain": [
       "(60000, 785)"
      ]
     },
     "execution_count": 25,
     "metadata": {},
     "output_type": "execute_result"
    }
   ],
   "source": [
    "D_train.shape"
   ]
  },
  {
   "cell_type": "code",
   "execution_count": 26,
   "id": "08d11e7f",
   "metadata": {},
   "outputs": [
    {
     "name": "stdout",
     "output_type": "stream",
     "text": [
      "       Pix1  Pix2  Pix3  Pix4  Pix5      Pix6  Pix7  Pix8      Pix9     Pix10  \\\n",
      "0       0.0   0.0   0.0   0.0   0.0  0.000000   0.0   0.0  0.000000  0.000000   \n",
      "1       0.0   0.0   0.0   0.0   0.0  0.004348   0.0   0.0  0.000000  0.000000   \n",
      "2       0.0   0.0   0.0   0.0   0.0  0.000000   0.0   0.0  0.000000  0.086275   \n",
      "3       0.0   0.0   0.0   0.0   0.0  0.000000   0.0   0.0  0.129921  0.376471   \n",
      "4       0.0   0.0   0.0   0.0   0.0  0.000000   0.0   0.0  0.000000  0.000000   \n",
      "...     ...   ...   ...   ...   ...       ...   ...   ...       ...       ...   \n",
      "59995   0.0   0.0   0.0   0.0   0.0  0.000000   0.0   0.0  0.000000  0.000000   \n",
      "59996   0.0   0.0   0.0   0.0   0.0  0.000000   0.0   0.0  0.000000  0.000000   \n",
      "59997   0.0   0.0   0.0   0.0   0.0  0.000000   0.0   0.0  0.000000  0.019608   \n",
      "59998   0.0   0.0   0.0   0.0   0.0  0.000000   0.0   0.0  0.000000  0.000000   \n",
      "59999   0.0   0.0   0.0   0.0   0.0  0.000000   0.0   0.0  0.000000  0.000000   \n",
      "\n",
      "       ...    Pix775    Pix776    Pix777    Pix778  Pix779    Pix780  Pix781  \\\n",
      "0      ...  0.000000  0.000000  0.000000  0.000000     0.0  0.000000     0.0   \n",
      "1      ...  0.466667  0.447059  0.509804  0.298039     0.0  0.000000     0.0   \n",
      "2      ...  0.000000  0.000000  0.003922  0.000000     0.0  0.000000     0.0   \n",
      "3      ...  0.000000  0.000000  0.000000  0.000000     0.0  0.000000     0.0   \n",
      "4      ...  0.000000  0.000000  0.000000  0.000000     0.0  0.000000     0.0   \n",
      "...    ...       ...       ...       ...       ...     ...       ...     ...   \n",
      "59995  ...  0.000000  0.000000  0.000000  0.000000     0.0  0.000000     0.0   \n",
      "59996  ...  0.000000  0.000000  0.000000  0.000000     0.0  0.000000     0.0   \n",
      "59997  ...  0.000000  0.000000  0.000000  0.000000     0.0  0.000000     0.0   \n",
      "59998  ...  0.258824  0.211765  0.196078  0.019608     0.0  0.003922     0.0   \n",
      "59999  ...  0.000000  0.000000  0.000000  0.000000     0.0  0.000000     0.0   \n",
      "\n",
      "       Pix782  Pix783  Pix784  \n",
      "0         0.0     0.0     0.0  \n",
      "1         0.0     0.0     0.0  \n",
      "2         0.0     0.0     0.0  \n",
      "3         0.0     0.0     0.0  \n",
      "4         0.0     0.0     0.0  \n",
      "...       ...     ...     ...  \n",
      "59995     0.0     0.0     0.0  \n",
      "59996     0.0     0.0     0.0  \n",
      "59997     0.0     0.0     0.0  \n",
      "59998     0.0     0.0     0.0  \n",
      "59999     0.0     0.0     0.0  \n",
      "\n",
      "[60000 rows x 784 columns]\n"
     ]
    }
   ],
   "source": [
    "#Normalizing Train Data\n",
    "\n",
    "# Select the numeric columns in the DataFrame\n",
    "train_numeric_columns = D_train.iloc[:, 1:785]\n",
    "\n",
    "# Create a MinMaxScaler object\n",
    "scaler = MinMaxScaler()\n",
    "\n",
    "# Normalize the data using the MinMaxScaler\n",
    "train_normalized_data = scaler.fit_transform(train_numeric_columns)\n",
    "\n",
    "# Create a new DataFrame with the normalized data\n",
    "train_NormData = pd.DataFrame(train_normalized_data, columns=train_numeric_columns.columns)"
   ]
  },
  {
   "cell_type": "code",
   "execution_count": 27,
   "id": "64424fe2",
   "metadata": {},
   "outputs": [
    {
     "name": "stdout",
     "output_type": "stream",
     "text": [
      "      Pix1  Pix2  Pix3      Pix4  Pix5      Pix6      Pix7  Pix8      Pix9  \\\n",
      "0      0.0   0.0   0.0  0.000000   0.0  0.000000  0.000000   0.0  0.000000   \n",
      "1      0.0   0.0   0.0  0.000000   0.0  0.000000  0.000000   0.0  0.000000   \n",
      "2      0.0   0.0   0.0  0.000000   0.0  0.000000  0.000000   0.0  0.004219   \n",
      "3      0.0   0.0   0.0  0.000000   0.0  0.000000  0.000000   0.0  0.000000   \n",
      "4      0.0   0.0   0.0  0.010811   0.0  0.004425  0.004464   0.0  0.000000   \n",
      "...    ...   ...   ...       ...   ...       ...       ...   ...       ...   \n",
      "9995   0.0   0.0   0.0  0.000000   0.0  0.000000  0.000000   0.0  0.000000   \n",
      "9996   0.0   0.0   0.0  0.000000   0.0  0.000000  0.000000   0.0  0.000000   \n",
      "9997   0.0   0.0   0.0  0.000000   0.0  0.000000  0.000000   0.0  0.000000   \n",
      "9998   0.0   0.0   0.0  0.000000   0.0  0.000000  0.000000   0.0  0.000000   \n",
      "9999   0.0   0.0   0.0  0.000000   0.0  0.000000  0.000000   0.0  0.000000   \n",
      "\n",
      "         Pix10  ...    Pix775    Pix776  Pix777    Pix778    Pix779    Pix780  \\\n",
      "0     0.000000  ...  0.000000  0.000000     0.0  0.000000  0.000000  0.000000   \n",
      "1     0.000000  ...  0.007843  0.011765     0.0  0.011811  0.682353  0.759036   \n",
      "2     0.000000  ...  0.643137  0.227451     0.0  0.000000  0.000000  0.000000   \n",
      "3     0.082353  ...  0.003922  0.000000     0.0  0.000000  0.000000  0.000000   \n",
      "4     0.000000  ...  0.278431  0.047059     0.0  0.000000  0.000000  0.000000   \n",
      "...        ...  ...       ...       ...     ...       ...       ...       ...   \n",
      "9995  0.000000  ...  0.000000  0.000000     0.0  0.000000  0.000000  0.000000   \n",
      "9996  0.121569  ...  0.000000  0.000000     0.0  0.000000  0.000000  0.000000   \n",
      "9997  0.000000  ...  0.105882  0.000000     0.0  0.000000  0.000000  0.000000   \n",
      "9998  0.000000  ...  0.000000  0.000000     0.0  0.000000  0.000000  0.000000   \n",
      "9999  0.000000  ...  0.000000  0.000000     0.0  0.000000  0.000000  0.000000   \n",
      "\n",
      "        Pix781  Pix782  Pix783  Pix784  \n",
      "0     0.000000     0.0     0.0     0.0  \n",
      "1     0.280335     0.0     0.0     0.0  \n",
      "2     0.000000     0.0     0.0     0.0  \n",
      "3     0.000000     0.0     0.0     0.0  \n",
      "4     0.000000     0.0     0.0     0.0  \n",
      "...        ...     ...     ...     ...  \n",
      "9995  0.000000     0.0     0.0     0.0  \n",
      "9996  0.000000     0.0     0.0     0.0  \n",
      "9997  0.000000     0.0     0.0     0.0  \n",
      "9998  0.000000     0.0     0.0     0.0  \n",
      "9999  0.000000     0.0     0.0     0.0  \n",
      "\n",
      "[10000 rows x 784 columns]\n"
     ]
    }
   ],
   "source": [
    "#Normalizing Test Data\n",
    "\n",
    "# Select the numeric columns in the DataFrame\n",
    "test_numeric_columns = D_test.iloc[:, 1:785]\n",
    "\n",
    "# Create a MinMaxScaler object\n",
    "scaler = MinMaxScaler()\n",
    "\n",
    "# Normalize the data using the MinMaxScaler\n",
    "test_normalized_data = scaler.fit_transform(test_numeric_columns)\n",
    "\n",
    "# Create a new DataFrame with the normalized data\n",
    "test_NormData = pd.DataFrame(test_normalized_data, columns=test_numeric_columns.columns)"
   ]
  },
  {
   "cell_type": "code",
   "execution_count": 28,
   "id": "e869c959",
   "metadata": {},
   "outputs": [],
   "source": [
    "X_train = train_NormData\n",
    "y_train = D_train.iloc[:,0]\n",
    "X_test = test_NormData\n",
    "y_test = D_test.iloc[:,0]"
   ]
  },
  {
   "cell_type": "code",
   "execution_count": 69,
   "id": "e07aaf0d",
   "metadata": {},
   "outputs": [
    {
     "name": "stdout",
     "output_type": "stream",
     "text": [
      "k = 2 - Elapsed Time: 21.570296049118042 seconds\n",
      "Accuracy: 0.84\n",
      "k = 3 - Elapsed Time: 19.379680156707764 seconds\n",
      "Accuracy: 0.85\n",
      "k = 4 - Elapsed Time: 20.008131980895996 seconds\n",
      "Accuracy: 0.86\n",
      "k = 5 - Elapsed Time: 19.671951055526733 seconds\n",
      "Accuracy: 0.85\n",
      "k = 6 - Elapsed Time: 23.439640045166016 seconds\n",
      "Accuracy: 0.85\n",
      "k = 7 - Elapsed Time: 22.32546091079712 seconds\n",
      "Accuracy: 0.85\n",
      "k = 8 - Elapsed Time: 23.65029001235962 seconds\n",
      "Accuracy: 0.85\n",
      "k = 9 - Elapsed Time: 22.126495122909546 seconds\n",
      "Accuracy: 0.85\n",
      "k = 10 - Elapsed Time: 21.349702835083008 seconds\n",
      "Accuracy: 0.85\n",
      "k = 11 - Elapsed Time: 19.349666833877563 seconds\n",
      "Accuracy: 0.85\n",
      "k = 12 - Elapsed Time: 22.052664041519165 seconds\n",
      "Accuracy: 0.85\n",
      "k = 13 - Elapsed Time: 22.233556032180786 seconds\n",
      "Accuracy: 0.85\n",
      "k = 14 - Elapsed Time: 22.67150592803955 seconds\n",
      "Accuracy: 0.85\n",
      "k = 15 - Elapsed Time: 19.874178171157837 seconds\n",
      "Accuracy: 0.85\n",
      "k = 16 - Elapsed Time: 21.206053256988525 seconds\n",
      "Accuracy: 0.85\n",
      "k = 17 - Elapsed Time: 20.02151083946228 seconds\n",
      "Accuracy: 0.84\n",
      "k = 18 - Elapsed Time: 19.524259090423584 seconds\n",
      "Accuracy: 0.84\n",
      "k = 19 - Elapsed Time: 20.158015966415405 seconds\n",
      "Accuracy: 0.84\n",
      "k = 20 - Elapsed Time: 19.54145622253418 seconds\n",
      "Accuracy: 0.84\n",
      "k = 21 - Elapsed Time: 22.007817029953003 seconds\n",
      "Accuracy: 0.84\n",
      "k = 22 - Elapsed Time: 19.404199361801147 seconds\n",
      "Accuracy: 0.84\n",
      "k = 23 - Elapsed Time: 21.474541902542114 seconds\n",
      "Accuracy: 0.84\n",
      "k = 24 - Elapsed Time: 21.618674993515015 seconds\n",
      "Accuracy: 0.84\n",
      "k = 25 - Elapsed Time: 19.19316792488098 seconds\n",
      "Accuracy: 0.84\n"
     ]
    },
    {
     "data": {
      "image/png": "[encoded data removed]",
      "text/plain": [
       "<Figure size 640x480 with 1 Axes>"
      ]
     },
     "metadata": {},
     "output_type": "display_data"
    }
   ],
   "source": [
    "import matplotlib.pyplot as plt\n",
    "from sklearn.neighbors import KNeighborsClassifier\n",
    "import time\n",
    "\n",
    "# Specify the range of k values\n",
    "start_k = 2\n",
    "end_k = 25\n",
    "\n",
    "\n",
    "\n",
    "# Initialize lists to store k values, elapsed times, and accuracies\n",
    "k_values = []\n",
    "elapsed_times = []\n",
    "accuracies = []\n",
    "\n",
    "# Loop over different values of k\n",
    "for k in range(start_k, end_k+1):\n",
    "    \n",
    "    # Start the timer\n",
    "    start_time = time.time()\n",
    "    # Train the KNN classifier\n",
    "    knn_model = KNeighborsClassifier(n_neighbors=k)\n",
    "    knn_model.fit(X_train, y_train)\n",
    "\n",
    "\n",
    "    # Print the elapsed time and the current k value\n",
    "    print(\"k =\", k, \"- Elapsed Time:\", elapsed_time, \"seconds\")\n",
    "\n",
    "    # Make predictions on the testing set\n",
    "    D_pred = knn_model.predict(X_test)\n",
    "\n",
    "    # Calculate the elapsed time for each iteration\n",
    "    elapsed_time = time.time() - start_time\n",
    "\n",
    "    # Calculate evaluation metrics\n",
    "    classification_results = cls_report(y_test, D_pred)\n",
    "    report_lines = classification_results.split('\\n')\n",
    "    accuracy_line = next((line for line in report_lines if 'accuracy' in line.lower()), None)\n",
    "\n",
    "    if accuracy_line is not None:\n",
    "        # Extract accuracy value\n",
    "        accuracy = accuracy_line.split()[1]\n",
    "        print(\"Accuracy:\", accuracy)\n",
    "    else:\n",
    "        print(\"Accuracy information not found in the classification report.\")\n",
    "        continue\n",
    "\n",
    "    # Store the k value, elapsed time, and accuracy in the lists\n",
    "    k_values.append(k)\n",
    "    elapsed_times.append(elapsed_time)\n",
    "    accuracies.append(float(accuracy))\n",
    "\n",
    "# Plot the line graph\n",
    "# plt.plot(k_values, elapsed_times, label='Elapsed Time')\n",
    "plt.plot(k_values, accuracies*100, label='Accuracy')\n",
    "plt.xlabel('k value')\n",
    "plt.ylabel('Accuracy %')\n",
    "plt.title('KNN Performance')\n",
    "plt.legend()\n",
    "plt.show()\n",
    "\n"
   ]
  },
  {
   "cell_type": "code",
   "execution_count": 71,
   "id": "76bbc526",
   "metadata": {},
   "outputs": [
    {
     "data": {
      "image/png": "[encoded data removed]",
      "text/plain": [
       "<Figure size 640x480 with 1 Axes>"
      ]
     },
     "metadata": {},
     "output_type": "display_data"
    }
   ],
   "source": [
    "# Plot the line graph\n",
    "plt.plot(k_values, elapsed_times, label='Elapsed Time')\n",
    "#plt.plot(k_values, accuracies, label='Accuracy')\n",
    "plt.xlabel('k value')\n",
    "plt.ylabel('Elapsed Time / Accuracy')\n",
    "plt.title('KNN Performance')\n",
    "plt.legend()\n",
    "plt.show()"
   ]
  }
 ],
 "metadata": {
  "kernelspec": {
   "display_name": "Python 3 (ipykernel)",
   "language": "python",
   "name": "python3"
  },
  "language_info": {
   "codemirror_mode": {
    "name": "ipython",
    "version": 3
   },
   "file_extension": ".py",
   "mimetype": "text/x-python",
   "name": "python",
   "nbconvert_exporter": "python",
   "pygments_lexer": "ipython3",
   "version": "3.9.6"
  }
 },
 "nbformat": 4,
 "nbformat_minor": 5
}
